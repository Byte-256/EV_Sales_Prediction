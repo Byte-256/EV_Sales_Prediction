{
 "cells": [
  {
   "cell_type": "markdown",
   "id": "505b7c2e-702b-4380-9e0e-d7f87250567c",
   "metadata": {},
   "source": [
    "## Importing pandas\n",
    " - for data manipulation purpose we use pandas\n"
   ]
  },
  {
   "cell_type": "code",
   "execution_count": 1,
   "id": "7b25fbd8-8d9d-4e69-b7f4-88359519bdb7",
   "metadata": {},
   "outputs": [],
   "source": [
    "import pandas as pd\n",
    "import matplotlib.pyplot as plt\n",
    "import seaborn as sns"
   ]
  },
  {
   "cell_type": "markdown",
   "id": "787b3965-81bf-4c65-8630-cb534913cb3e",
   "metadata": {},
   "source": [
    "### Loadind the DataSet\n",
    "- load the csv file into a pandas DataFrame using read_csv()"
   ]
  },
  {
   "cell_type": "code",
   "execution_count": 2,
   "id": "286cfda8-de6e-4a06-a46d-3607712c59f8",
   "metadata": {},
   "outputs": [],
   "source": [
    "raw_data = pd.read_csv('./data/IEA_Global_EV_Data_2024.csv')"
   ]
  },
  {
   "cell_type": "code",
   "execution_count": 3,
   "id": "a1464778-7c2c-4903-8f8d-531ab706afd8",
   "metadata": {},
   "outputs": [
    {
     "name": "stdout",
     "output_type": "stream",
     "text": [
      "<class 'pandas.core.frame.DataFrame'>\n",
      "RangeIndex: 12654 entries, 0 to 12653\n",
      "Data columns (total 8 columns):\n",
      " #   Column      Non-Null Count  Dtype  \n",
      "---  ------      --------------  -----  \n",
      " 0   region      12654 non-null  object \n",
      " 1   category    12654 non-null  object \n",
      " 2   parameter   12654 non-null  object \n",
      " 3   mode        12654 non-null  object \n",
      " 4   powertrain  12654 non-null  object \n",
      " 5   year        12654 non-null  int64  \n",
      " 6   unit        12654 non-null  object \n",
      " 7   value       12654 non-null  float64\n",
      "dtypes: float64(1), int64(1), object(6)\n",
      "memory usage: 791.0+ KB\n"
     ]
    }
   ],
   "source": [
    "raw_data.info()"
   ]
  },
  {
   "cell_type": "code",
   "execution_count": 4,
   "id": "5d7ae94e-8bb1-4667-953f-4eb471f6015b",
   "metadata": {},
   "outputs": [
    {
     "data": {
      "text/html": [
       "<div>\n",
       "<style scoped>\n",
       "    .dataframe tbody tr th:only-of-type {\n",
       "        vertical-align: middle;\n",
       "    }\n",
       "\n",
       "    .dataframe tbody tr th {\n",
       "        vertical-align: top;\n",
       "    }\n",
       "\n",
       "    .dataframe thead th {\n",
       "        text-align: right;\n",
       "    }\n",
       "</style>\n",
       "<table border=\"1\" class=\"dataframe\">\n",
       "  <thead>\n",
       "    <tr style=\"text-align: right;\">\n",
       "      <th></th>\n",
       "      <th>region</th>\n",
       "      <th>category</th>\n",
       "      <th>parameter</th>\n",
       "      <th>mode</th>\n",
       "      <th>powertrain</th>\n",
       "      <th>year</th>\n",
       "      <th>unit</th>\n",
       "      <th>value</th>\n",
       "    </tr>\n",
       "  </thead>\n",
       "  <tbody>\n",
       "    <tr>\n",
       "      <th>0</th>\n",
       "      <td>Australia</td>\n",
       "      <td>Historical</td>\n",
       "      <td>EV stock share</td>\n",
       "      <td>Cars</td>\n",
       "      <td>EV</td>\n",
       "      <td>2011</td>\n",
       "      <td>percent</td>\n",
       "      <td>0.00039</td>\n",
       "    </tr>\n",
       "    <tr>\n",
       "      <th>1</th>\n",
       "      <td>Australia</td>\n",
       "      <td>Historical</td>\n",
       "      <td>EV sales share</td>\n",
       "      <td>Cars</td>\n",
       "      <td>EV</td>\n",
       "      <td>2011</td>\n",
       "      <td>percent</td>\n",
       "      <td>0.00650</td>\n",
       "    </tr>\n",
       "    <tr>\n",
       "      <th>2</th>\n",
       "      <td>Australia</td>\n",
       "      <td>Historical</td>\n",
       "      <td>EV sales</td>\n",
       "      <td>Cars</td>\n",
       "      <td>BEV</td>\n",
       "      <td>2011</td>\n",
       "      <td>Vehicles</td>\n",
       "      <td>49.00000</td>\n",
       "    </tr>\n",
       "    <tr>\n",
       "      <th>3</th>\n",
       "      <td>Australia</td>\n",
       "      <td>Historical</td>\n",
       "      <td>EV stock</td>\n",
       "      <td>Cars</td>\n",
       "      <td>BEV</td>\n",
       "      <td>2011</td>\n",
       "      <td>Vehicles</td>\n",
       "      <td>49.00000</td>\n",
       "    </tr>\n",
       "    <tr>\n",
       "      <th>4</th>\n",
       "      <td>Australia</td>\n",
       "      <td>Historical</td>\n",
       "      <td>EV stock</td>\n",
       "      <td>Cars</td>\n",
       "      <td>BEV</td>\n",
       "      <td>2012</td>\n",
       "      <td>Vehicles</td>\n",
       "      <td>220.00000</td>\n",
       "    </tr>\n",
       "  </tbody>\n",
       "</table>\n",
       "</div>"
      ],
      "text/plain": [
       "      region    category       parameter  mode powertrain  year      unit  \\\n",
       "0  Australia  Historical  EV stock share  Cars         EV  2011   percent   \n",
       "1  Australia  Historical  EV sales share  Cars         EV  2011   percent   \n",
       "2  Australia  Historical        EV sales  Cars        BEV  2011  Vehicles   \n",
       "3  Australia  Historical        EV stock  Cars        BEV  2011  Vehicles   \n",
       "4  Australia  Historical        EV stock  Cars        BEV  2012  Vehicles   \n",
       "\n",
       "       value  \n",
       "0    0.00039  \n",
       "1    0.00650  \n",
       "2   49.00000  \n",
       "3   49.00000  \n",
       "4  220.00000  "
      ]
     },
     "execution_count": 4,
     "metadata": {},
     "output_type": "execute_result"
    }
   ],
   "source": [
    "raw_data.head()"
   ]
  },
  {
   "cell_type": "code",
   "execution_count": 5,
   "id": "f26219a3",
   "metadata": {},
   "outputs": [
    {
     "data": {
      "text/plain": [
       "12654"
      ]
     },
     "metadata": {},
     "output_type": "display_data"
    },
    {
     "data": {
      "text/plain": [
       "Index(['region', 'category', 'parameter', 'mode', 'powertrain', 'year', 'unit',\n",
       "       'value'],\n",
       "      dtype='object')"
      ]
     },
     "metadata": {},
     "output_type": "display_data"
    }
   ],
   "source": [
    "display(raw_data.value_counts().__len__())\n",
    "display(raw_data.columns)"
   ]
  },
  {
   "cell_type": "markdown",
   "id": "190c0ba8-5b51-43f2-bc31-134bc27227b3",
   "metadata": {},
   "source": [
    "### Cleaning the data\n",
    " - remove the unwanted rows from `category` like `Projections-APS` & `Projection-STEPS`\n",
    " - filtering only the `EV sales` in `parameter` column "
   ]
  },
  {
   "cell_type": "code",
   "execution_count": 6,
   "id": "a1ea690f-06c0-46fc-9f45-660d99febd55",
   "metadata": {},
   "outputs": [
    {
     "name": "stdout",
     "output_type": "stream",
     "text": [
      "total rows in sales DF = 2501\n"
     ]
    }
   ],
   "source": [
    "sales = raw_data[raw_data['parameter'] == \"EV sales\"]\n",
    "sales = sales[sales['category'] == \"Historical\"]\n",
    "print(\"total rows in sales DF =\",sales.value_counts().__len__())\n"
   ]
  },
  {
   "cell_type": "markdown",
   "id": "9a64203c",
   "metadata": {},
   "source": [
    "### Saving the Preprocessed data for duture use"
   ]
  },
  {
   "cell_type": "code",
   "execution_count": 7,
   "id": "ab8e4439",
   "metadata": {},
   "outputs": [],
   "source": [
    "sales.to_csv(\"data/sales.csv\")"
   ]
  },
  {
   "cell_type": "markdown",
   "id": "b89ca9b1",
   "metadata": {},
   "source": [
    "### Plotting Bar Chart to visualize the Ev Sales over year "
   ]
  },
  {
   "cell_type": "code",
   "execution_count": 8,
   "id": "f7fa5b34",
   "metadata": {},
   "outputs": [
    {
     "data": {
      "text/plain": [
       "year\n",
       "2010    2.606400e+04\n",
       "2011    1.306080e+05\n",
       "2012    3.246125e+05\n",
       "2013    5.535577e+05\n",
       "2014    8.680802e+05\n",
       "2015    1.633905e+06\n",
       "2016    2.186306e+06\n",
       "2017    3.351445e+06\n",
       "2018    5.192548e+06\n",
       "2019    5.557852e+06\n",
       "2020    8.834555e+06\n",
       "2021    1.783948e+07\n",
       "2022    2.618958e+07\n",
       "2023    3.457247e+07\n",
       "Name: value, dtype: float64"
      ]
     },
     "metadata": {},
     "output_type": "display_data"
    },
    {
     "data": {
      "image/png": "[encoded data removed]",
      "text/plain": [
       "<Figure size 800x500 with 1 Axes>"
      ]
     },
     "metadata": {},
     "output_type": "display_data"
    }
   ],
   "source": [
    "yearly_sales = sales.groupby('year')['value'].sum()\n",
    "display(yearly_sales)\n",
    "\n",
    "plt.figure(figsize=(8,5))\n",
    "plt.bar(yearly_sales.index.astype(str), yearly_sales.values)\n",
    "plt.xlabel(\"Year\")\n",
    "plt.ylabel(\"EV Sales\")\n",
    "plt.title('EV Sales per Year')\n",
    "plt.xticks(rotation=45)\n",
    "plt.tight_layout()\n",
    "plt.show()\n"
   ]
  },
  {
   "cell_type": "markdown",
   "id": "23fc0429",
   "metadata": {},
   "source": [
    "### Plotting Sales data on heat map to see which country is apdating EV more"
   ]
  },
  {
   "cell_type": "code",
   "execution_count": 16,
   "id": "fb0e6b7f",
   "metadata": {},
   "outputs": [],
   "source": [
    "import plotly.express as px\n",
    "\n",
    "country_sales = sales.groupby('region')['value'].sum().reset_index()\n",
    "country_sales.columns = ['Country', 'Total EV Sales']"
   ]
  },
  {
   "cell_type": "code",
   "execution_count": 17,
   "id": "4fb35988",
   "metadata": {},
   "outputs": [
    {
     "name": "stderr",
     "output_type": "stream",
     "text": [
      "/tmp/ipykernel_679357/1592319106.py:3: FutureWarning:\n",
      "\n",
      "\n",
      "\n",
      "Passing `palette` without assigning `hue` is deprecated and will be removed in v0.14.0. Assign the `y` variable to `hue` and set `legend=False` for the same effect.\n",
      "\n",
      "\n"
     ]
    },
    {
     "data": {
      "image/png": "[encoded data removed]",
      "text/plain": [
       "<Figure size 1200x1000 with 1 Axes>"
      ]
     },
     "metadata": {},
     "output_type": "display_data"
    }
   ],
   "source": [
    "sort = country_sales.sort_values(by='Total EV Sales', ascending=False)\n",
    "plt.figure(figsize=(12, 10))\n",
    "sns.barplot(\n",
    "    data=sort,\n",
    "    y='Country',\n",
    "    x='Total EV Sales',\n",
    "    palette='viridis'\n",
    ")\n",
    "plt.title('Total EV Sales by Country')\n",
    "plt.xlabel('EV Sales (Total)')\n",
    "plt.ylabel('Country')\n",
    "plt.tight_layout()\n",
    "plt.show()"
   ]
  },
  {
   "cell_type": "code",
   "execution_count": null,
   "id": "7b00be6d",
   "metadata": {},
   "outputs": [
    {
     "data": {
      "application/vnd.plotly.v1+json": {
       "config": {
        "plotlyServerURL": "https://plot.ly"
       },
       "data": [
        {
         "coloraxis": "coloraxis",
         "geo": "geo",
         "hovertemplate": "country=%{location}<br>Total EV Sales=%{z}<extra></extra>",
         "locationmode": "country names",
         "locations": [
          "Australia",
          "Austria",
          "Belgium",
          "Brazil",
          "Bulgaria",
          "Canada",
          "Chile",
          "China",
          "Colombia",
          "Costa Rica",
          "Croatia",
          "Cyprus",
          "Czech Republic",
          "Denmark",
          "EU27",
          "Estonia",
          "Europe",
          "Finland",
          "France",
          "Germany",
          "Greece",
          "Hungary",
          "Iceland",
          "India",
          "Ireland",
          "Israel",
          "Italy",
          "Japan",
          "Korea",
          "Latvia",
          "Lithuania",
          "Luxembourg",
          "Mexico",
          "Netherlands",
          "New Zealand",
          "Norway",
          "Poland",
          "Portugal",
          "Rest of the world",
          "Romania",
          "Seychelles",
          "Slovakia",
          "Slovenia",
          "South Africa",
          "Spain",
          "Sweden",
          "Switzerland",
          "Turkiye",
          "USA",
          "United Arab Emirates",
          "United Kingdom",
          "World"
         ],
         "name": "",
         "type": "choropleth",
         "z": {
          "bdata": "AAAAAKCCBkEAAAAAGAsLQQAAAAAUQh1BAAAAAIAi90AAAAAAAA+yQAAAAAAcViJBAAAAAABKrkAAAABAtkZ2QQAAAACAS89AAAAAAIA/wUAAAAAAAIW9QAAAAAAAqKFAAAAAAIC/4EAAAAAA7H8QQQAAAECJD2FBAAAAAADpsUAAAADAaBJnQQAAAADYRAJBAAAAAFpuOUEAAAAAbfxGQQAAAACAZ+FAAAAAAGCG5EAAAAAAIJToQAAAAABYkQRBAAAAAKCf9UC8SQwC0IMCQQAAAABsMx9BAAAAACQoI0EAAAAAAKQkQQAAAAAAT7JAAAAAAAARukAAAAAAgI7kQAAAAABAV+NAAGhmZpBhKEEAAAAA8OL4QAAAAACK2SpBAAAAANBx9kAAAAAA6PoFQQAAAADIGg9BAAAAAABI40AAAAAAACB1QAAAAACAE8pAAAAAAIAZykAAAAAAAA6rQAAAAABEfxdBAAAAAOyMJUEAAAAAkI4RQQAAAADgLPRAAMzMjB0zUkEAAAAAgMjpQAAAAADNUzlBAAAA+IKphEE=",
          "dtype": "f8"
         }
        }
       ],
       "layout": {
        "coloraxis": {
         "colorbar": {
          "title": {
           "text": "Total EV Sales"
          }
         },
         "colorscale": [
          [
           0,
           "#440154"
          ],
          [
           0.1111111111111111,
           "#482878"
          ],
          [
           0.2222222222222222,
           "#3e4989"
          ],
          [
           0.3333333333333333,
           "#31688e"
          ],
          [
           0.4444444444444444,
           "#26828e"
          ],
          [
           0.5555555555555556,
           "#1f9e89"
          ],
          [
           0.6666666666666666,
           "#35b779"
          ],
          [
           0.7777777777777778,
           "#6ece58"
          ],
          [
           0.8888888888888888,
           "#b5de2b"
          ],
          [
           1,
           "#fde725"
          ]
         ]
        },
        "geo": {
         "center": {},
         "domain": {
          "x": [
           0,
           1
          ],
          "y": [
           0,
           1
          ]
         },
         "showcoastlines": false,
         "showframe": false
        },
        "legend": {
         "tracegroupgap": 0
        },
        "template": {
         "data": {
          "bar": [
           {
            "error_x": {
             "color": "#2a3f5f"
            },
            "error_y": {
             "color": "#2a3f5f"
            },
            "marker": {
             "line": {
              "color": "#E5ECF6",
              "width": 0.5
             },
             "pattern": {
              "fillmode": "overlay",
              "size": 10,
              "solidity": 0.2
             }
            },
            "type": "bar"
           }
          ],
          "barpolar": [
           {
            "marker": {
             "line": {
              "color": "#E5ECF6",
              "width": 0.5
             },
             "pattern": {
              "fillmode": "overlay",
              "size": 10,
              "solidity": 0.2
             }
            },
            "type": "barpolar"
           }
          ],
          "carpet": [
           {
            "aaxis": {
             "endlinecolor": "#2a3f5f",
             "gridcolor": "white",
             "linecolor": "white",
             "minorgridcolor": "white",
             "startlinecolor": "#2a3f5f"
            },
            "baxis": {
             "endlinecolor": "#2a3f5f",
             "gridcolor": "white",
             "linecolor": "white",
             "minorgridcolor": "white",
             "startlinecolor": "#2a3f5f"
            },
            "type": "carpet"
           }
          ],
          "choropleth": [
           {
            "colorbar": {
             "outlinewidth": 0,
             "ticks": ""
            },
            "type": "choropleth"
           }
          ],
          "contour": [
           {
            "colorbar": {
             "outlinewidth": 0,
             "ticks": ""
            },
            "colorscale": [
             [
              0,
              "#0d0887"
             ],
             [
              0.1111111111111111,
              "#46039f"
             ],
             [
              0.2222222222222222,
              "#7201a8"
             ],
             [
              0.3333333333333333,
              "#9c179e"
             ],
             [
              0.4444444444444444,
              "#bd3786"
             ],
             [
              0.5555555555555556,
              "#d8576b"
             ],
             [
              0.6666666666666666,
              "#ed7953"
             ],
             [
              0.7777777777777778,
              "#fb9f3a"
             ],
             [
              0.8888888888888888,
              "#fdca26"
             ],
             [
              1,
              "#f0f921"
             ]
            ],
            "type": "contour"
           }
          ],
          "contourcarpet": [
           {
            "colorbar": {
             "outlinewidth": 0,
             "ticks": ""
            },
            "type": "contourcarpet"
           }
          ],
          "heatmap": [
           {
            "colorbar": {
             "outlinewidth": 0,
             "ticks": ""
            },
            "colorscale": [
             [
              0,
              "#0d0887"
             ],
             [
              0.1111111111111111,
              "#46039f"
             ],
             [
              0.2222222222222222,
              "#7201a8"
             ],
             [
              0.3333333333333333,
              "#9c179e"
             ],
             [
              0.4444444444444444,
              "#bd3786"
             ],
             [
              0.5555555555555556,
              "#d8576b"
             ],
             [
              0.6666666666666666,
              "#ed7953"
             ],
             [
              0.7777777777777778,
              "#fb9f3a"
             ],
             [
              0.8888888888888888,
              "#fdca26"
             ],
             [
              1,
              "#f0f921"
             ]
            ],
            "type": "heatmap"
           }
          ],
          "histogram": [
           {
            "marker": {
             "pattern": {
              "fillmode": "overlay",
              "size": 10,
              "solidity": 0.2
             }
            },
            "type": "histogram"
           }
          ],
          "histogram2d": [
           {
            "colorbar": {
             "outlinewidth": 0,
             "ticks": ""
            },
            "colorscale": [
             [
              0,
              "#0d0887"
             ],
             [
              0.1111111111111111,
              "#46039f"
             ],
             [
              0.2222222222222222,
              "#7201a8"
             ],
             [
              0.3333333333333333,
              "#9c179e"
             ],
             [
              0.4444444444444444,
              "#bd3786"
             ],
             [
              0.5555555555555556,
              "#d8576b"
             ],
             [
              0.6666666666666666,
              "#ed7953"
             ],
             [
              0.7777777777777778,
              "#fb9f3a"
             ],
             [
              0.8888888888888888,
              "#fdca26"
             ],
             [
              1,
              "#f0f921"
             ]
            ],
            "type": "histogram2d"
           }
          ],
          "histogram2dcontour": [
           {
            "colorbar": {
             "outlinewidth": 0,
             "ticks": ""
            },
            "colorscale": [
             [
              0,
              "#0d0887"
             ],
             [
              0.1111111111111111,
              "#46039f"
             ],
             [
              0.2222222222222222,
              "#7201a8"
             ],
             [
              0.3333333333333333,
              "#9c179e"
             ],
             [
              0.4444444444444444,
              "#bd3786"
             ],
             [
              0.5555555555555556,
              "#d8576b"
             ],
             [
              0.6666666666666666,
              "#ed7953"
             ],
             [
              0.7777777777777778,
              "#fb9f3a"
             ],
             [
              0.8888888888888888,
              "#fdca26"
             ],
             [
              1,
              "#f0f921"
             ]
            ],
            "type": "histogram2dcontour"
           }
          ],
          "mesh3d": [
           {
            "colorbar": {
             "outlinewidth": 0,
             "ticks": ""
            },
            "type": "mesh3d"
           }
          ],
          "parcoords": [
           {
            "line": {
             "colorbar": {
              "outlinewidth": 0,
              "ticks": ""
             }
            },
            "type": "parcoords"
           }
          ],
          "pie": [
           {
            "automargin": true,
            "type": "pie"
           }
          ],
          "scatter": [
           {
            "fillpattern": {
             "fillmode": "overlay",
             "size": 10,
             "solidity": 0.2
            },
            "type": "scatter"
           }
          ],
          "scatter3d": [
           {
            "line": {
             "colorbar": {
              "outlinewidth": 0,
              "ticks": ""
             }
            },
            "marker": {
             "colorbar": {
              "outlinewidth": 0,
              "ticks": ""
             }
            },
            "type": "scatter3d"
           }
          ],
          "scattercarpet": [
           {
            "marker": {
             "colorbar": {
              "outlinewidth": 0,
              "ticks": ""
             }
            },
            "type": "scattercarpet"
           }
          ],
          "scattergeo": [
           {
            "marker": {
             "colorbar": {
              "outlinewidth": 0,
              "ticks": ""
             }
            },
            "type": "scattergeo"
           }
          ],
          "scattergl": [
           {
            "marker": {
             "colorbar": {
              "outlinewidth": 0,
              "ticks": ""
             }
            },
            "type": "scattergl"
           }
          ],
          "scattermap": [
           {
            "marker": {
             "colorbar": {
              "outlinewidth": 0,
              "ticks": ""
             }
            },
            "type": "scattermap"
           }
          ],
          "scattermapbox": [
           {
            "marker": {
             "colorbar": {
              "outlinewidth": 0,
              "ticks": ""
             }
            },
            "type": "scattermapbox"
           }
          ],
          "scatterpolar": [
           {
            "marker": {
             "colorbar": {
              "outlinewidth": 0,
              "ticks": ""
             }
            },
            "type": "scatterpolar"
           }
          ],
          "scatterpolargl": [
           {
            "marker": {
             "colorbar": {
              "outlinewidth": 0,
              "ticks": ""
             }
            },
            "type": "scatterpolargl"
           }
          ],
          "scatterternary": [
           {
            "marker": {
             "colorbar": {
              "outlinewidth": 0,
              "ticks": ""
             }
            },
            "type": "scatterternary"
           }
          ],
          "surface": [
           {
            "colorbar": {
             "outlinewidth": 0,
             "ticks": ""
            },
            "colorscale": [
             [
              0,
              "#0d0887"
             ],
             [
              0.1111111111111111,
              "#46039f"
             ],
             [
              0.2222222222222222,
              "#7201a8"
             ],
             [
              0.3333333333333333,
              "#9c179e"
             ],
             [
              0.4444444444444444,
              "#bd3786"
             ],
             [
              0.5555555555555556,
              "#d8576b"
             ],
             [
              0.6666666666666666,
              "#ed7953"
             ],
             [
              0.7777777777777778,
              "#fb9f3a"
             ],
             [
              0.8888888888888888,
              "#fdca26"
             ],
             [
              1,
              "#f0f921"
             ]
            ],
            "type": "surface"
           }
          ],
          "table": [
           {
            "cells": {
             "fill": {
              "color": "#EBF0F8"
             },
             "line": {
              "color": "white"
             }
            },
            "header": {
             "fill": {
              "color": "#C8D4E3"
             },
             "line": {
              "color": "white"
             }
            },
            "type": "table"
           }
          ]
         },
         "layout": {
          "annotationdefaults": {
           "arrowcolor": "#2a3f5f",
           "arrowhead": 0,
           "arrowwidth": 1
          },
          "autotypenumbers": "strict",
          "coloraxis": {
           "colorbar": {
            "outlinewidth": 0,
            "ticks": ""
           }
          },
          "colorscale": {
           "diverging": [
            [
             0,
             "#8e0152"
            ],
            [
             0.1,
             "#c51b7d"
            ],
            [
             0.2,
             "#de77ae"
            ],
            [
             0.3,
             "#f1b6da"
            ],
            [
             0.4,
             "#fde0ef"
            ],
            [
             0.5,
             "#f7f7f7"
            ],
            [
             0.6,
             "#e6f5d0"
            ],
            [
             0.7,
             "#b8e186"
            ],
            [
             0.8,
             "#7fbc41"
            ],
            [
             0.9,
             "#4d9221"
            ],
            [
             1,
             "#276419"
            ]
           ],
           "sequential": [
            [
             0,
             "#0d0887"
            ],
            [
             0.1111111111111111,
             "#46039f"
            ],
            [
             0.2222222222222222,
             "#7201a8"
            ],
            [
             0.3333333333333333,
             "#9c179e"
            ],
            [
             0.4444444444444444,
             "#bd3786"
            ],
            [
             0.5555555555555556,
             "#d8576b"
            ],
            [
             0.6666666666666666,
             "#ed7953"
            ],
            [
             0.7777777777777778,
             "#fb9f3a"
            ],
            [
             0.8888888888888888,
             "#fdca26"
            ],
            [
             1,
             "#f0f921"
            ]
           ],
           "sequentialminus": [
            [
             0,
             "#0d0887"
            ],
            [
             0.1111111111111111,
             "#46039f"
            ],
            [
             0.2222222222222222,
             "#7201a8"
            ],
            [
             0.3333333333333333,
             "#9c179e"
            ],
            [
             0.4444444444444444,
             "#bd3786"
            ],
            [
             0.5555555555555556,
             "#d8576b"
            ],
            [
             0.6666666666666666,
             "#ed7953"
            ],
            [
             0.7777777777777778,
             "#fb9f3a"
            ],
            [
             0.8888888888888888,
             "#fdca26"
            ],
            [
             1,
             "#f0f921"
            ]
           ]
          },
          "colorway": [
           "#636efa",
           "#EF553B",
           "#00cc96",
           "#ab63fa",
           "#FFA15A",
           "#19d3f3",
           "#FF6692",
           "#B6E880",
           "#FF97FF",
           "#FECB52"
          ],
          "font": {
           "color": "#2a3f5f"
          },
          "geo": {
           "bgcolor": "white",
           "lakecolor": "white",
           "landcolor": "#E5ECF6",
           "showlakes": true,
           "showland": true,
           "subunitcolor": "white"
          },
          "hoverlabel": {
           "align": "left"
          },
          "hovermode": "closest",
          "mapbox": {
           "style": "light"
          },
          "paper_bgcolor": "white",
          "plot_bgcolor": "#E5ECF6",
          "polar": {
           "angularaxis": {
            "gridcolor": "white",
            "linecolor": "white",
            "ticks": ""
           },
           "bgcolor": "#E5ECF6",
           "radialaxis": {
            "gridcolor": "white",
            "linecolor": "white",
            "ticks": ""
           }
          },
          "scene": {
           "xaxis": {
            "backgroundcolor": "#E5ECF6",
            "gridcolor": "white",
            "gridwidth": 2,
            "linecolor": "white",
            "showbackground": true,
            "ticks": "",
            "zerolinecolor": "white"
           },
           "yaxis": {
            "backgroundcolor": "#E5ECF6",
            "gridcolor": "white",
            "gridwidth": 2,
            "linecolor": "white",
            "showbackground": true,
            "ticks": "",
            "zerolinecolor": "white"
           },
           "zaxis": {
            "backgroundcolor": "#E5ECF6",
            "gridcolor": "white",
            "gridwidth": 2,
            "linecolor": "white",
            "showbackground": true,
            "ticks": "",
            "zerolinecolor": "white"
           }
          },
          "shapedefaults": {
           "line": {
            "color": "#2a3f5f"
           }
          },
          "ternary": {
           "aaxis": {
            "gridcolor": "white",
            "linecolor": "white",
            "ticks": ""
           },
           "baxis": {
            "gridcolor": "white",
            "linecolor": "white",
            "ticks": ""
           },
           "bgcolor": "#E5ECF6",
           "caxis": {
            "gridcolor": "white",
            "linecolor": "white",
            "ticks": ""
           }
          },
          "title": {
           "x": 0.05
          },
          "xaxis": {
           "automargin": true,
           "gridcolor": "white",
           "linecolor": "white",
           "ticks": "",
           "title": {
            "standoff": 15
           },
           "zerolinecolor": "white",
           "zerolinewidth": 2
          },
          "yaxis": {
           "automargin": true,
           "gridcolor": "white",
           "linecolor": "white",
           "ticks": "",
           "title": {
            "standoff": 15
           },
           "zerolinecolor": "white",
           "zerolinewidth": 2
          }
         }
        },
        "title": {
         "text": "Global EV Sales by Country"
        }
       }
      }
     },
     "metadata": {},
     "output_type": "display_data"
    }
   ],
   "source": [
    "fig = px.choropleth(\n",
    "    country_sales, \n",
    "    locations='Country',\n",
    "    locationmode='country names',\n",
    "    color='Total EV Sales',\n",
    "    color_continuous_scale='Viridis',\n",
    "    title='Global EV Sales by Country'\n",
    ")\n",
    "\n",
    "fig.update_layout(geo=dict(showframe=False, showcoastlines=False))\n",
    "fig.show()"
   ]
  },
  {
   "cell_type": "markdown",
   "id": "e1963ae9-cfd3-4d60-8790-acd8360aaf48",
   "metadata": {},
   "source": [
    "## Importing Machine Learning Library\n",
    "- from sci-kit learn, import the train_test_split method for sliptting the dataset into two one for `Training the model` another one for `Testing the model`"
   ]
  },
  {
   "cell_type": "code",
   "execution_count": null,
   "id": "d4bc2247-adb1-4163-9888-a0763df1a26d",
   "metadata": {},
   "outputs": [],
   "source": []
  }
 ],
 "metadata": {
  "kernelspec": {
   "display_name": ".venv",
   "language": "python",
   "name": "python3"
  },
  "language_info": {
   "codemirror_mode": {
    "name": "ipython",
    "version": 3
   },
   "file_extension": ".py",
   "mimetype": "text/x-python",
   "name": "python",
   "nbconvert_exporter": "python",
   "pygments_lexer": "ipython3",
   "version": "3.13.5"
  }
 },
 "nbformat": 4,
 "nbformat_minor": 5
}
