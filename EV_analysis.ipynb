{
 "cells": [
  {
   "cell_type": "markdown",
   "id": "505b7c2e-702b-4380-9e0e-d7f87250567c",
   "metadata": {},
   "source": [
    "## Importing pandas\n",
    " - for data manipulation purpose we use pandas\n"
   ]
  },
  {
   "cell_type": "code",
   "execution_count": 19,
   "id": "7b25fbd8-8d9d-4e69-b7f4-88359519bdb7",
   "metadata": {},
   "outputs": [],
   "source": [
    "import pandas as pd\n",
    "import matplotlib.pyplot as plt\n",
    "import seaborn as sns"
   ]
  },
  {
   "cell_type": "markdown",
   "id": "787b3965-81bf-4c65-8630-cb534913cb3e",
   "metadata": {},
   "source": [
    "## Loadind the DataSet\n",
    "- load the csv file into a pandas DataFrame using read_csv()"
   ]
  },
  {
   "cell_type": "code",
   "execution_count": 20,
   "id": "286cfda8-de6e-4a06-a46d-3607712c59f8",
   "metadata": {},
   "outputs": [],
   "source": [
    "raw_data = pd.read_csv('./EV_2010-2025.csv')"
   ]
  },
  {
   "cell_type": "code",
   "execution_count": 21,
   "id": "a1464778-7c2c-4903-8f8d-531ab706afd8",
   "metadata": {},
   "outputs": [
    {
     "name": "stdout",
     "output_type": "stream",
     "text": [
      "<class 'pandas.core.frame.DataFrame'>\n",
      "RangeIndex: 3798 entries, 0 to 3797\n",
      "Data columns (total 8 columns):\n",
      " #   Column      Non-Null Count  Dtype  \n",
      "---  ------      --------------  -----  \n",
      " 0   region      3798 non-null   object \n",
      " 1   category    3798 non-null   object \n",
      " 2   parameter   3798 non-null   object \n",
      " 3   mode        3798 non-null   object \n",
      " 4   powertrain  3798 non-null   object \n",
      " 5   year        3798 non-null   int64  \n",
      " 6   unit        3798 non-null   object \n",
      " 7   value       3798 non-null   float64\n",
      "dtypes: float64(1), int64(1), object(6)\n",
      "memory usage: 237.5+ KB\n"
     ]
    }
   ],
   "source": [
    "raw_data.info()"
   ]
  },
  {
   "cell_type": "code",
   "execution_count": 39,
   "id": "5d7ae94e-8bb1-4667-953f-4eb471f6015b",
   "metadata": {},
   "outputs": [
    {
     "data": {
      "text/html": [
       "<div>\n",
       "<style scoped>\n",
       "    .dataframe tbody tr th:only-of-type {\n",
       "        vertical-align: middle;\n",
       "    }\n",
       "\n",
       "    .dataframe tbody tr th {\n",
       "        vertical-align: top;\n",
       "    }\n",
       "\n",
       "    .dataframe thead th {\n",
       "        text-align: right;\n",
       "    }\n",
       "</style>\n",
       "<table border=\"1\" class=\"dataframe\">\n",
       "  <thead>\n",
       "    <tr style=\"text-align: right;\">\n",
       "      <th></th>\n",
       "      <th>region</th>\n",
       "      <th>category</th>\n",
       "      <th>parameter</th>\n",
       "      <th>mode</th>\n",
       "      <th>powertrain</th>\n",
       "      <th>year</th>\n",
       "      <th>unit</th>\n",
       "      <th>value</th>\n",
       "    </tr>\n",
       "  </thead>\n",
       "  <tbody>\n",
       "    <tr>\n",
       "      <th>0</th>\n",
       "      <td>Australia</td>\n",
       "      <td>Historical</td>\n",
       "      <td>EV sales</td>\n",
       "      <td>Cars</td>\n",
       "      <td>BEV</td>\n",
       "      <td>2011</td>\n",
       "      <td>Vehicles</td>\n",
       "      <td>49.00000</td>\n",
       "    </tr>\n",
       "    <tr>\n",
       "      <th>1</th>\n",
       "      <td>Australia</td>\n",
       "      <td>Historical</td>\n",
       "      <td>EV stock share</td>\n",
       "      <td>Cars</td>\n",
       "      <td>EV</td>\n",
       "      <td>2011</td>\n",
       "      <td>percent</td>\n",
       "      <td>0.00039</td>\n",
       "    </tr>\n",
       "    <tr>\n",
       "      <th>2</th>\n",
       "      <td>Australia</td>\n",
       "      <td>Historical</td>\n",
       "      <td>EV sales share</td>\n",
       "      <td>Cars</td>\n",
       "      <td>EV</td>\n",
       "      <td>2011</td>\n",
       "      <td>percent</td>\n",
       "      <td>0.00650</td>\n",
       "    </tr>\n",
       "    <tr>\n",
       "      <th>3</th>\n",
       "      <td>Australia</td>\n",
       "      <td>Historical</td>\n",
       "      <td>EV stock</td>\n",
       "      <td>Cars</td>\n",
       "      <td>BEV</td>\n",
       "      <td>2011</td>\n",
       "      <td>Vehicles</td>\n",
       "      <td>49.00000</td>\n",
       "    </tr>\n",
       "    <tr>\n",
       "      <th>4</th>\n",
       "      <td>Australia</td>\n",
       "      <td>Historical</td>\n",
       "      <td>EV stock</td>\n",
       "      <td>Cars</td>\n",
       "      <td>BEV</td>\n",
       "      <td>2012</td>\n",
       "      <td>Vehicles</td>\n",
       "      <td>220.00000</td>\n",
       "    </tr>\n",
       "  </tbody>\n",
       "</table>\n",
       "</div>"
      ],
      "text/plain": [
       "      region    category       parameter  mode powertrain  year      unit  \\\n",
       "0  Australia  Historical        EV sales  Cars        BEV  2011  Vehicles   \n",
       "1  Australia  Historical  EV stock share  Cars         EV  2011   percent   \n",
       "2  Australia  Historical  EV sales share  Cars         EV  2011   percent   \n",
       "3  Australia  Historical        EV stock  Cars        BEV  2011  Vehicles   \n",
       "4  Australia  Historical        EV stock  Cars        BEV  2012  Vehicles   \n",
       "\n",
       "       value  \n",
       "0   49.00000  \n",
       "1    0.00039  \n",
       "2    0.00650  \n",
       "3   49.00000  \n",
       "4  220.00000  "
      ]
     },
     "execution_count": 39,
     "metadata": {},
     "output_type": "execute_result"
    }
   ],
   "source": [
    "raw_data.head()"
   ]
  },
  {
   "cell_type": "markdown",
   "id": "190c0ba8-5b51-43f2-bc31-134bc27227b3",
   "metadata": {},
   "source": [
    "## Cleaning the data\n",
    " - remove the unwanted columns like `EV category`, and `powertrain`\n",
    " - filtering only the `EV sales` \n",
    " - which is useless col for us because we're going to predict the sales not gonna classify the sales. "
   ]
  },
  {
   "cell_type": "code",
   "execution_count": 25,
   "id": "a1ea690f-06c0-46fc-9f45-660d99febd55",
   "metadata": {},
   "outputs": [],
   "source": [
    "clean = raw_data.drop(columns=['category', 'powertrain'])\n",
    "clean = clean[clean['parameter'] == 'EV sales']"
   ]
  },
  {
   "cell_type": "code",
   "execution_count": 31,
   "id": "5275ea3e-71ea-4bf2-83fb-336d3f3cb9ed",
   "metadata": {},
   "outputs": [
    {
     "data": {
      "text/html": [
       "<div>\n",
       "<style scoped>\n",
       "    .dataframe tbody tr th:only-of-type {\n",
       "        vertical-align: middle;\n",
       "    }\n",
       "\n",
       "    .dataframe tbody tr th {\n",
       "        vertical-align: top;\n",
       "    }\n",
       "\n",
       "    .dataframe thead th {\n",
       "        text-align: right;\n",
       "    }\n",
       "</style>\n",
       "<table border=\"1\" class=\"dataframe\">\n",
       "  <thead>\n",
       "    <tr style=\"text-align: right;\">\n",
       "      <th></th>\n",
       "      <th>region</th>\n",
       "      <th>parameter</th>\n",
       "      <th>mode</th>\n",
       "      <th>year</th>\n",
       "      <th>unit</th>\n",
       "      <th>value</th>\n",
       "    </tr>\n",
       "  </thead>\n",
       "  <tbody>\n",
       "    <tr>\n",
       "      <th>0</th>\n",
       "      <td>Australia</td>\n",
       "      <td>EV sales</td>\n",
       "      <td>Cars</td>\n",
       "      <td>2011</td>\n",
       "      <td>Vehicles</td>\n",
       "      <td>49.0</td>\n",
       "    </tr>\n",
       "    <tr>\n",
       "      <th>6</th>\n",
       "      <td>Australia</td>\n",
       "      <td>EV sales</td>\n",
       "      <td>Cars</td>\n",
       "      <td>2012</td>\n",
       "      <td>Vehicles</td>\n",
       "      <td>80.0</td>\n",
       "    </tr>\n",
       "    <tr>\n",
       "      <th>9</th>\n",
       "      <td>Australia</td>\n",
       "      <td>EV sales</td>\n",
       "      <td>Cars</td>\n",
       "      <td>2012</td>\n",
       "      <td>Vehicles</td>\n",
       "      <td>170.0</td>\n",
       "    </tr>\n",
       "    <tr>\n",
       "      <th>10</th>\n",
       "      <td>Australia</td>\n",
       "      <td>EV sales</td>\n",
       "      <td>Cars</td>\n",
       "      <td>2013</td>\n",
       "      <td>Vehicles</td>\n",
       "      <td>190.0</td>\n",
       "    </tr>\n",
       "    <tr>\n",
       "      <th>13</th>\n",
       "      <td>Australia</td>\n",
       "      <td>EV sales</td>\n",
       "      <td>Cars</td>\n",
       "      <td>2013</td>\n",
       "      <td>Vehicles</td>\n",
       "      <td>100.0</td>\n",
       "    </tr>\n",
       "  </tbody>\n",
       "</table>\n",
       "</div>"
      ],
      "text/plain": [
       "       region parameter  mode  year      unit  value\n",
       "0   Australia  EV sales  Cars  2011  Vehicles   49.0\n",
       "6   Australia  EV sales  Cars  2012  Vehicles   80.0\n",
       "9   Australia  EV sales  Cars  2012  Vehicles  170.0\n",
       "10  Australia  EV sales  Cars  2013  Vehicles  190.0\n",
       "13  Australia  EV sales  Cars  2013  Vehicles  100.0"
      ]
     },
     "execution_count": 31,
     "metadata": {},
     "output_type": "execute_result"
    }
   ],
   "source": [
    "clean.head()"
   ]
  },
  {
   "cell_type": "code",
   "execution_count": 36,
   "id": "d49d2229-8187-4f23-9939-55983c5b35b0",
   "metadata": {},
   "outputs": [
    {
     "data": {
      "text/plain": [
       "mode\n",
       "Cars    1342\n",
       "Name: count, dtype: int64"
      ]
     },
     "execution_count": 36,
     "metadata": {},
     "output_type": "execute_result"
    }
   ],
   "source": [
    "mode = clean['mode'].value_counts()\n",
    "mode"
   ]
  },
  {
   "cell_type": "code",
   "execution_count": 40,
   "id": "e5e46d4d-efc7-4d3a-b506-17f7b6469a08",
   "metadata": {},
   "outputs": [],
   "source": [
    "vehicles_countries_grouped = clean.groupby('region')['value'].sum()"
   ]
  },
  {
   "cell_type": "markdown",
   "id": "e1963ae9-cfd3-4d60-8790-acd8360aaf48",
   "metadata": {},
   "source": [
    "## Importing Machine Learning Library\n",
    "- from sci-kit learn, import the train_test_split method for sliptting the dataset into two one for `Training the model` another one for `Testing the model`"
   ]
  },
  {
   "cell_type": "code",
   "execution_count": null,
   "id": "d4bc2247-adb1-4163-9888-a0763df1a26d",
   "metadata": {},
   "outputs": [],
   "source": []
  }
 ],
 "metadata": {
  "kernelspec": {
   "display_name": "Python 3 (ipykernel)",
   "language": "python",
   "name": "python3"
  },
  "language_info": {
   "codemirror_mode": {
    "name": "ipython",
    "version": 3
   },
   "file_extension": ".py",
   "mimetype": "text/x-python",
   "name": "python",
   "nbconvert_exporter": "python",
   "pygments_lexer": "ipython3",
   "version": "3.10.0"
  }
 },
 "nbformat": 4,
 "nbformat_minor": 5
}
